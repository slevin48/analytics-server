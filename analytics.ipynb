{
 "cells": [
  {
   "cell_type": "markdown",
   "metadata": {},
   "source": [
    "# Analytics server"
   ]
  },
  {
   "cell_type": "code",
   "execution_count": 1,
   "metadata": {},
   "outputs": [
    {
     "output_type": "execute_result",
     "data": {
      "text/plain": "['cars.csv', 'united_nations.csv']"
     },
     "metadata": {},
     "execution_count": 1
    }
   ],
   "source": [
    "from os import listdir\n",
    "# Data to serve with our API\n",
    "datasets = listdir(\"data\")\n",
    "datasets"
   ]
  },
  {
   "cell_type": "code",
   "execution_count": 2,
   "metadata": {},
   "outputs": [
    {
     "output_type": "execute_result",
     "data": {
      "text/plain": "'[\"cars.csv\", \"united_nations.csv\"]'"
     },
     "metadata": {},
     "execution_count": 2
    }
   ],
   "source": [
    "import json\n",
    "json.dumps(datasets)"
   ]
  },
  {
   "cell_type": "markdown",
   "metadata": {},
   "source": [
    "## Working With Files in Python\n",
    "https://realpython.com/working-with-files-in-python/"
   ]
  },
  {
   "cell_type": "code",
   "execution_count": 9,
   "metadata": {},
   "outputs": [
    {
     "output_type": "stream",
     "name": "stdout",
     "text": "cars.csv\ndata.csv\n"
    }
   ],
   "source": [
    "entries = os.listdir('data/')\n",
    "for entry in entries:\n",
    "    print(entry)"
   ]
  },
  {
   "cell_type": "code",
   "execution_count": 11,
   "metadata": {},
   "outputs": [
    {
     "output_type": "stream",
     "name": "stdout",
     "text": "cars.csv\ndata.csv\n"
    }
   ],
   "source": [
    "import os\n",
    "\n",
    "with os.scandir('data/') as entries:\n",
    "    for entry in entries:\n",
    "        print(entry.name)"
   ]
  },
  {
   "cell_type": "code",
   "execution_count": 61,
   "metadata": {},
   "outputs": [
    {
     "output_type": "stream",
     "name": "stdout",
     "text": "os.stat_result(st_mode=33206, st_ino=0, st_dev=0, st_nlink=0, st_uid=0, st_gid=0, st_size=14937, st_atime=1590573945, st_mtime=1530305963, st_ctime=1590573945)\nos.stat_result(st_mode=33206, st_ino=0, st_dev=0, st_nlink=0, st_uid=0, st_gid=0, st_size=25830, st_atime=1590573945, st_mtime=1408008491, st_ctime=1590573945)\n"
    }
   ],
   "source": [
    "import os\n",
    "\n",
    "with os.scandir(\"data\") as dir_entries:\n",
    "    for entry in dir_entries:\n",
    "        info = entry.stat()\n",
    "        print(info)"
   ]
  },
  {
   "cell_type": "markdown",
   "metadata": {},
   "source": [
    "Same results with *pathlib*"
   ]
  },
  {
   "cell_type": "code",
   "execution_count": 13,
   "metadata": {},
   "outputs": [
    {
     "output_type": "stream",
     "name": "stdout",
     "text": "1530305963.4392028\n1408008491.0\n"
    }
   ],
   "source": [
    "from pathlib import Path\n",
    "current_dir = Path('data')\n",
    "for path in current_dir.iterdir():\n",
    "    info = path.stat()\n",
    "    print(info.st_mtime)"
   ]
  },
  {
   "cell_type": "code",
   "execution_count": 16,
   "metadata": {},
   "outputs": [],
   "source": [
    "from datetime import datetime\n",
    "from os import scandir\n",
    "\n",
    "def convert_date(timestamp):\n",
    "    d = datetime.utcfromtimestamp(timestamp)\n",
    "    formated_date = d.strftime('%d %b %Y')\n",
    "    return formated_date\n",
    "\n",
    "def get_files():\n",
    "    dir_entries = scandir('data/')\n",
    "    for entry in dir_entries:\n",
    "        if entry.is_file():\n",
    "            info = entry.stat()\n",
    "            print(f'{entry.name}\\t Last Modified: {convert_date(info.st_mtime)}')"
   ]
  },
  {
   "cell_type": "code",
   "execution_count": 17,
   "metadata": {},
   "outputs": [
    {
     "output_type": "stream",
     "name": "stdout",
     "text": "cars.csv\t Last Modified: 29 Jun 2018\ndata.csv\t Last Modified: 14 Aug 2014\n"
    }
   ],
   "source": [
    " get_files()"
   ]
  },
  {
   "cell_type": "markdown",
   "metadata": {},
   "source": [
    "## Retrieve file properties\n",
    "https://www.w3resource.com/python-exercises/python-basic-exercise-107.php"
   ]
  },
  {
   "cell_type": "code",
   "execution_count": 19,
   "metadata": {},
   "outputs": [
    {
     "output_type": "stream",
     "name": "stdout",
     "text": "File         : data/cars.csv\nAccess time  : Wed May 27 12:05:45 2020\nModified time: Fri Jun 29 22:59:23 2018\nChange time  : Wed May 27 12:05:45 2020\nSize         : 14937\n"
    }
   ],
   "source": [
    "import os.path\n",
    "import time\n",
    "\n",
    "print('File         :', \"data/cars.csv\")\n",
    "print('Access time  :', time.ctime(os.path.getatime(\"data/cars.csv\")))\n",
    "print('Modified time:', time.ctime(os.path.getmtime(\"data/cars.csv\")))\n",
    "print('Change time  :', time.ctime(os.path.getctime(\"data/cars.csv\")))\n",
    "print('Size         :', os.path.getsize(\"data/cars.csv\"))"
   ]
  },
  {
   "cell_type": "code",
   "execution_count": 75,
   "metadata": {},
   "outputs": [],
   "source": [
    "from hurry.filesize import size\n",
    "\n",
    "def file_info():\n",
    "    dir_entries = scandir('data/')\n",
    "    for entry in dir_entries:\n",
    "        name = entry.name\n",
    "        lastModified = entry.stat().st_mtime\n",
    "        filesize = size(entry.stat().st_size)\n",
    "        print(name)\n",
    "        print(lastModified)\n",
    "        print(filesize)"
   ]
  },
  {
   "cell_type": "code",
   "execution_count": 76,
   "metadata": {},
   "outputs": [
    {
     "output_type": "stream",
     "name": "stdout",
     "text": "cars.csv\n1530305963.4392028\n14K\ndata.csv\n1408008491.0\n25K\n"
    }
   ],
   "source": [
    "file_info()"
   ]
  },
  {
   "cell_type": "code",
   "execution_count": 63,
   "metadata": {},
   "outputs": [
    {
     "output_type": "stream",
     "name": "stdout",
     "text": "os.stat_result(st_mode=33206, st_ino=0, st_dev=0, st_nlink=0, st_uid=0, st_gid=0, st_size=14937, st_atime=1590573945, st_mtime=1530305963, st_ctime=1590573945)\nos.stat_result(st_mode=33206, st_ino=0, st_dev=0, st_nlink=0, st_uid=0, st_gid=0, st_size=25830, st_atime=1590573945, st_mtime=1408008491, st_ctime=1590573945)\n"
    }
   ],
   "source": [
    "dir_entries = scandir('data/')\n",
    "for entry in dir_entries:\n",
    "    if entry.is_file():\n",
    "        info = entry.stat()\n",
    "        print(info)"
   ]
  },
  {
   "cell_type": "code",
   "execution_count": 97,
   "metadata": {},
   "outputs": [
    {
     "output_type": "execute_result",
     "data": {
      "text/plain": "Empty DataFrame\nColumns: [name, lastModified, filesize]\nIndex: []",
      "text/html": "<div>\n<style scoped>\n    .dataframe tbody tr th:only-of-type {\n        vertical-align: middle;\n    }\n\n    .dataframe tbody tr th {\n        vertical-align: top;\n    }\n\n    .dataframe thead th {\n        text-align: right;\n    }\n</style>\n<table border=\"1\" class=\"dataframe\">\n  <thead>\n    <tr style=\"text-align: right;\">\n      <th></th>\n      <th>name</th>\n      <th>lastModified</th>\n      <th>filesize</th>\n    </tr>\n  </thead>\n  <tbody>\n  </tbody>\n</table>\n</div>"
     },
     "metadata": {},
     "execution_count": 97
    }
   ],
   "source": [
    " import pandas as pd\n",
    "\n",
    " df = pd.DataFrame(columns= ['name','lastModified','filesize'])\n",
    "\n",
    " df"
   ]
  },
  {
   "cell_type": "code",
   "execution_count": 106,
   "metadata": {},
   "outputs": [
    {
     "output_type": "execute_result",
     "data": {
      "text/plain": "'[{\"name\":\"cars.csv\",\"lastModified\":1530305963.4392027855,\"filesize\":\"14K\"},{\"name\":\"united_nations.csv\",\"lastModified\":1408008491.0,\"filesize\":\"25K\"},{\"name\":\"cars.csv\",\"lastModified\":1530305963.4392027855,\"filesize\":\"14K\"},{\"name\":\"united_nations.csv\",\"lastModified\":1408008491.0,\"filesize\":\"25K\"}]'"
     },
     "metadata": {},
     "execution_count": 106
    }
   ],
   "source": [
    "dir_entries = scandir('data/')\n",
    "for entry in dir_entries:\n",
    "     df = df.append({'name' : entry.name, 'lastModified' : entry.stat().st_mtime, 'filesize' : size(entry.stat().st_size)}, ignore_index=True)    \n",
    "\n",
    "# df.to_json(\"dataset.json\",orient='records')\n",
    "df.to_json(orient='records')"
   ]
  },
  {
   "cell_type": "code",
   "execution_count": 99,
   "metadata": {},
   "outputs": [
    {
     "output_type": "execute_result",
     "data": {
      "text/plain": "                 name  lastModified filesize\n0            cars.csv  1.530306e+09      14K\n1  united_nations.csv  1.408008e+09      25K",
      "text/html": "<div>\n<style scoped>\n    .dataframe tbody tr th:only-of-type {\n        vertical-align: middle;\n    }\n\n    .dataframe tbody tr th {\n        vertical-align: top;\n    }\n\n    .dataframe thead th {\n        text-align: right;\n    }\n</style>\n<table border=\"1\" class=\"dataframe\">\n  <thead>\n    <tr style=\"text-align: right;\">\n      <th></th>\n      <th>name</th>\n      <th>lastModified</th>\n      <th>filesize</th>\n    </tr>\n  </thead>\n  <tbody>\n    <tr>\n      <th>0</th>\n      <td>cars.csv</td>\n      <td>1.530306e+09</td>\n      <td>14K</td>\n    </tr>\n    <tr>\n      <th>1</th>\n      <td>united_nations.csv</td>\n      <td>1.408008e+09</td>\n      <td>25K</td>\n    </tr>\n  </tbody>\n</table>\n</div>"
     },
     "metadata": {},
     "execution_count": 99
    }
   ],
   "source": [
    "df"
   ]
  },
  {
   "cell_type": "code",
   "execution_count": 78,
   "metadata": {},
   "outputs": [
    {
     "output_type": "execute_result",
     "data": {
      "text/plain": "   A\n0  0\n1  1\n2  2\n3  3\n4  4",
      "text/html": "<div>\n<style scoped>\n    .dataframe tbody tr th:only-of-type {\n        vertical-align: middle;\n    }\n\n    .dataframe tbody tr th {\n        vertical-align: top;\n    }\n\n    .dataframe thead th {\n        text-align: right;\n    }\n</style>\n<table border=\"1\" class=\"dataframe\">\n  <thead>\n    <tr style=\"text-align: right;\">\n      <th></th>\n      <th>A</th>\n    </tr>\n  </thead>\n  <tbody>\n    <tr>\n      <th>0</th>\n      <td>0</td>\n    </tr>\n    <tr>\n      <th>1</th>\n      <td>1</td>\n    </tr>\n    <tr>\n      <th>2</th>\n      <td>2</td>\n    </tr>\n    <tr>\n      <th>3</th>\n      <td>3</td>\n    </tr>\n    <tr>\n      <th>4</th>\n      <td>4</td>\n    </tr>\n  </tbody>\n</table>\n</div>"
     },
     "metadata": {},
     "execution_count": 78
    }
   ],
   "source": [
    "df = pd.DataFrame(columns=['A'])\n",
    "for i in range(5):\n",
    "    df = df.append({'A': i}, ignore_index=True)\n",
    "\n",
    "df"
   ]
  },
  {
   "cell_type": "markdown",
   "metadata": {},
   "source": [
    "Append DataFrame\n",
    "https://pandas.pydata.org/pandas-docs/stable/reference/api/pandas.DataFrame.append.html"
   ]
  },
  {
   "cell_type": "markdown",
   "metadata": {},
   "source": [
    "## Better way to create json file from multiple lists?\n",
    "https://stackoverflow.com/questions/50519818/better-way-to-create-json-file-from-multiple-lists/50520116"
   ]
  },
  {
   "cell_type": "code",
   "execution_count": 33,
   "metadata": {},
   "outputs": [],
   "source": [
    "import json\n",
    "\n",
    "devices = ['iphone', 'ipad', 'ipod', 'watch']\n",
    "cities = ['NY', 'SFO', 'LA', 'NJ']\n",
    "companies = ['Apple', 'Samsung', 'Walmart']\n",
    "\n",
    "lists = ['devices', 'cities', 'companies']\n",
    "\n",
    "data = {listname: globals()[listname] for listname in lists}\n",
    "with open('abc.json', 'w') as outfile:\n",
    "    json.dump(data, outfile, indent=4)\n"
   ]
  },
  {
   "cell_type": "code",
   "execution_count": 38,
   "metadata": {},
   "outputs": [
    {
     "output_type": "execute_result",
     "data": {
      "text/plain": "  devices cities companies\n0  iphone     NY     Apple\n1    ipad    SFO   Samsung\n2    ipod     LA   Walmart",
      "text/html": "<div>\n<style scoped>\n    .dataframe tbody tr th:only-of-type {\n        vertical-align: middle;\n    }\n\n    .dataframe tbody tr th {\n        vertical-align: top;\n    }\n\n    .dataframe thead th {\n        text-align: right;\n    }\n</style>\n<table border=\"1\" class=\"dataframe\">\n  <thead>\n    <tr style=\"text-align: right;\">\n      <th></th>\n      <th>devices</th>\n      <th>cities</th>\n      <th>companies</th>\n    </tr>\n  </thead>\n  <tbody>\n    <tr>\n      <th>0</th>\n      <td>iphone</td>\n      <td>NY</td>\n      <td>Apple</td>\n    </tr>\n    <tr>\n      <th>1</th>\n      <td>ipad</td>\n      <td>SFO</td>\n      <td>Samsung</td>\n    </tr>\n    <tr>\n      <th>2</th>\n      <td>ipod</td>\n      <td>LA</td>\n      <td>Walmart</td>\n    </tr>\n  </tbody>\n</table>\n</div>"
     },
     "metadata": {},
     "execution_count": 38
    }
   ],
   "source": [
    "import pandas as pd\n",
    "\n",
    "devices = ['iphone', 'ipad', 'ipod', 'watch']\n",
    "cities = ['NY', 'SFO', 'LA', 'NJ']\n",
    "companies = ['Apple', 'Samsung', 'Walmart']\n",
    "\n",
    "df = pd.DataFrame(list(zip(devices,cities,companies)),columns =['devices', 'cities','companies'])\n",
    "df"
   ]
  },
  {
   "cell_type": "code",
   "execution_count": 40,
   "metadata": {},
   "outputs": [],
   "source": [
    "df.to_json(\"df.json\",orient='records')"
   ]
  },
  {
   "cell_type": "markdown",
   "metadata": {},
   "source": [
    "## Reading JSON from a File\n",
    "https://stackabuse.com/reading-and-writing-json-to-a-file-in-python/"
   ]
  },
  {
   "cell_type": "code",
   "execution_count": 104,
   "metadata": {},
   "outputs": [],
   "source": [
    "import json\n",
    "from datetime import datetime\n",
    "\n",
    "def get_timestamp():\n",
    "    return datetime.now().strftime((\"%Y-%m-%d %H:%M:%S\"))\n",
    "\n",
    "\n",
    "data = {}\n",
    "data['people'] = []\n",
    "data['people'].append({\n",
    "    \"fname\": \"Doug\",\n",
    "    \"lname\": \"Farrell\",\n",
    "    \"timestamp\": get_timestamp()\n",
    "})\n",
    "data['people'].append({\n",
    "    \"fname\": \"Kent\",\n",
    "    \"lname\": \"Brockman\",\n",
    "    \"timestamp\": get_timestamp()\n",
    "})\n",
    "data['people'].append({\n",
    "    \"fname\": \"Bunny\",\n",
    "    \"lname\": \"Easter\",\n",
    "    \"timestamp\": get_timestamp()\n",
    "})\n",
    "\n",
    "with open('people.txt', 'w') as outfile:\n",
    "    json.dump(data, outfile)"
   ]
  },
  {
   "cell_type": "code",
   "execution_count": 105,
   "metadata": {},
   "outputs": [
    {
     "output_type": "stream",
     "name": "stdout",
     "text": "Name: Doug\nWebsite: Farrell\nFrom: 2020-05-27 15:31:12\n\nName: Kent\nWebsite: Brockman\nFrom: 2020-05-27 15:31:12\n\nName: Bunny\nWebsite: Easter\nFrom: 2020-05-27 15:31:12\n\n"
    }
   ],
   "source": [
    "\n",
    "with open('people.txt') as json_file:\n",
    "    data = json.load(json_file)\n",
    "    for p in data['people']:\n",
    "        print('Name: ' + p['fname'])\n",
    "        print('Website: ' + p['lname'])\n",
    "        print('From: ' + p['timestamp'])\n",
    "        print('')"
   ]
  },
  {
   "cell_type": "code",
   "execution_count": 108,
   "metadata": {},
   "outputs": [],
   "source": [
    "import dataset\n",
    "\n",
    "data = dataset.read()"
   ]
  },
  {
   "cell_type": "code",
   "execution_count": 110,
   "metadata": {},
   "outputs": [
    {
     "output_type": "execute_result",
     "data": {
      "text/plain": "'[{\"name\":\"cars.csv\",\"lastModified\":1530305963.4392027855,\"filesize\":\"14K\"},{\"name\":\"united_nations.csv\",\"lastModified\":1408008491.0,\"filesize\":\"25K\"}]'"
     },
     "metadata": {},
     "execution_count": 110
    }
   ],
   "source": [
    "data"
   ]
  },
  {
   "cell_type": "code",
   "execution_count": 116,
   "metadata": {},
   "outputs": [
    {
     "output_type": "execute_result",
     "data": {
      "text/plain": "[{'name': 'cars.csv', 'lastModified': 1530305963.4392028, 'filesize': '14K'},\n {'name': 'united_nations.csv',\n  'lastModified': 1408008491.0,\n  'filesize': '25K'}]"
     },
     "metadata": {},
     "execution_count": 116
    }
   ],
   "source": [
    "json.loads(data)"
   ]
  },
  {
   "source": [
    "## Request analytics server"
   ],
   "cell_type": "markdown",
   "metadata": {}
  },
  {
   "cell_type": "code",
   "execution_count": 1,
   "metadata": {},
   "outputs": [],
   "source": [
    "import requests as rq"
   ]
  },
  {
   "cell_type": "code",
   "execution_count": 2,
   "metadata": {},
   "outputs": [
    {
     "output_type": "execute_result",
     "data": {
      "text/plain": [
       "[{'name': 'cars.csv', 'lastModified': 1609092360.4322233, 'filesize': '14K'},\n",
       " {'name': 'united_nations.csv',\n",
       "  'lastModified': 1609092360.4352262,\n",
       "  'filesize': '25K'}]"
      ]
     },
     "metadata": {},
     "execution_count": 2
    }
   ],
   "source": [
    "res = rq.get(\"http://127.0.0.1:8000/api/dataset\")\n",
    "res.json()"
   ]
  },
  {
   "cell_type": "code",
   "execution_count": 41,
   "metadata": {},
   "outputs": [],
   "source": [
    "# files = {'data_classification.csv': open('data_classification.csv', 'rb')}"
   ]
  },
  {
   "cell_type": "code",
   "execution_count": 45,
   "metadata": {},
   "outputs": [],
   "source": [
    "files = {'file': ('data_classification.csv', open('data_classification.csv', 'rb'))}"
   ]
  },
  {
   "cell_type": "code",
   "execution_count": 47,
   "metadata": {},
   "outputs": [
    {
     "output_type": "execute_result",
     "data": {
      "text/plain": [
       "b'{\"filename\":\"data_classification.csv\",\"content_type\":\"\"}'"
      ]
     },
     "metadata": {},
     "execution_count": 47
    }
   ],
   "source": [
    "r = rq.post(\"http://127.0.0.1:8000/api/dataset\", files=files)\n",
    "r.content"
   ]
  },
  {
   "source": [
    "Example of post request:\n",
    "https://requests.readthedocs.io/en/v0.8.2/user/quickstart/#post-a-multipart-encoded-file"
   ],
   "cell_type": "markdown",
   "metadata": {}
  },
  {
   "cell_type": "code",
   "execution_count": 6,
   "metadata": {},
   "outputs": [
    {
     "output_type": "execute_result",
     "data": {
      "text/plain": [
       "{'args': {},\n",
       " 'data': '',\n",
       " 'files': {'data_classification.csv': '4.8550642421469092,9.6399615658447146,1\\n8.6254397593438625,0.058926530182361603,0\\n3.8281915383413434,0.72319923434406519,0\\n7.1509548369795084,3.899420415982604,1\\n6.4779004408046603,8.1981805479153991,1\\n1.9222695007920265,1.3314272649586201,0\\n8.9782158890739083,0.99343751091510057,1\\n6.6356030758470297,8.5428026784211397,1\\n7.6723589515313506,5.4163997946307063,1\\n4.8660153336822987,2.0426712930202484,0\\n6.8614049674943089,9.655309715308249,1\\n8.5404213238507509,2.5903742294758558,1\\n3.7178806541487575,5.3816621145233512,0\\n9.1812971234321594,0.1714746467769146,1\\n9.5601400220766664,0.02494648564606905,0\\n5.9713694732636213,4.1883018705993891,1\\n9.4382026931270957,1.9438124401494861,1\\n4.3575510196387768,9.8879833146929741,1\\n4.5403319643810391,6.7138733575120568,1\\n1.5491016302257776,9.3751321639865637,0\\n8.0819737119600177,9.8422068124637008,1\\n9.6204650029540062,2.0993275381624699,1\\n8.8347709784284234,3.1522041233256459,1\\n1.753448536619544,4.2192426044493914,0\\n1.0432128375396132,2.6097651151940227,0\\n1.1963831819593906,7.4757448583841324,0\\n8.9100698800757527,8.2329279417172074,1\\n4.5296187419444323,4.9055115412920713,1\\n1.8591124145314097,5.6918675592169166,0\\n9.5571788400411606,1.6446719132363796,1\\n7.1547012263908982,8.0147901969030499,1\\n2.3436185251921415,2.9587068501859903,0\\n2.922684489749372,8.2175949169322848,1\\n6.333096232265234,7.240304984152317,1\\n0.92562817502766848,3.4212671080604196,0\\n7.8743905667215586,7.7910933550447226,1\\n8.3477510465309024,1.8608125066384673,1\\n5.5810611322522163,2.4961292929947376,0\\n5.0910290936008096,9.8731340887024999,1\\n4.5301713701337576,3.7617589998990297,0\\n1.4237779891118407,0.22859792690724134,0\\n9.0959601290524006,1.0679170489311218,1\\n4.0066159190610051,9.792127856053412,1\\n8.9765674341470003,3.9351597707718611,1\\n0.098052877001464367,7.2145125409588218,0\\n0.45238867402076721,2.7746942453086376,0\\n3.8630462670698762,3.9132022904232144,0\\n7.863850174471736,7.7263833675533533,1\\n8.9227064093574882,7.7542167110368609,1\\n7.4643678776919842,9.9451762065291405,1\\n1.3419292913749814,2.3428780445829034,0\\n5.9409695956856012,4.6206316258758307,1\\n0.90407765936106443,9.4209287827834487,0\\n7.750530056655407,9.0571718849241734,1\\n9.5179252931848168,1.3011859031394124,0\\n7.7437867131084204,1.1544216889888048,0\\n7.691923058591783,8.2982278196141124,1\\n7.0922730304300785,2.3574569076299667,0\\n6.9444390805438161,6.4847038919106126,1\\n0.045024724677205086,3.346005929633975,0\\n1.5459691314026713,7.5677000870928168,1\\n5.2723831683397293,9.1496153734624386,1\\n0.86040707770735025,8.9881881373003125,0\\n7.2534389328211546,1.762510621920228,1\\n7.5173089792951941,2.2489292873069644,0\\n9.0816271863877773,1.4373503997921944,1\\n0.45567818451672792,4.7222974756732583,0\\n6.9497054163366556,1.411293363198638,0\\n9.2821425152942538,8.5293305432423949,1\\n7.180812694132328,3.6107634194195271,1\\n1.1324883857741952,3.2649118127301335,0\\n7.7465284522622824,3.6430192459374666,1\\n7.0653604483231902,1.1213281331583858,0\\n6.5058174915611744,0.86310222744941711,0\\n5.7005291106179357,7.0835442328825593,1\\n6.6604666877537966,2.2539557795971632,0\\n1.0914720175787807,7.0843769749626517,0\\n4.9030876159667969,6.0254777781665325,0\\n3.4431093418970704,7.0663468586280942,0\\n8.1829780619591475,0.97498656250536442,1\\n9.00037647690624,9.5493278605863452,1\\n9.6831041388213634,9.5070497319102287,1\\n2.991911475546658,5.2992104599252343,0\\n2.2381834778934717,4.5348437037318945,0\\n0.66547832917422056,9.782636440359056,1\\n6.7793187126517296,2.0281807519495487,0\\n9.9478409299626946,1.0264578135684133,1\\n3.2148492243140936,0.48505899496376514,0\\n8.8516463106498122,1.0279159573838115,1\\n0.20005786791443825,4.834059551358223,0\\n5.1854695053771138,0.73263081256300211,0\\n7.2600881475955248,3.9741338323801756,1\\n9.1505161253735423,2.5623337319120765,1\\n6.4608960598707199,7.0762926898896694,1\\n4.7785724932327867,8.2828713255003095,1\\n0.022279573604464531,2.6584278885275126,0\\n7.6306369295343757,7.4053513957187533,1\\n3.6849974654614925,5.0499651208519936,0\\n7.4842595355585217,6.0593958059325814,1\\n2.0307079795747995,3.9372665341943502,0\\n'},\n",
       " 'form': {},\n",
       " 'headers': {'Accept': '*/*',\n",
       "  'Accept-Encoding': 'gzip, deflate',\n",
       "  'Cache-Control': 'max-age=259200',\n",
       "  'Content-Length': '4182',\n",
       "  'Content-Type': 'multipart/form-data; boundary=8a5044bd8e232805804903e53130ee83',\n",
       "  'Host': 'httpbin.org',\n",
       "  'User-Agent': 'python-requests/2.24.0',\n",
       "  'X-Amzn-Trace-Id': 'Root=1-5fea2125-59794eaf6c07ed672de6957e'},\n",
       " 'json': None,\n",
       " 'origin': '10.0.224.181, 193.8.119.83',\n",
       " 'url': 'http://httpbin.org/post'}"
      ]
     },
     "metadata": {},
     "execution_count": 6
    }
   ],
   "source": [
    "url = 'http://httpbin.org/post'\n",
    "files = {'data_classification.csv': open('data_classification.csv', 'r')}\n",
    "r = rq.post(url, files=files)\n",
    "r.json()"
   ]
  },
  {
   "cell_type": "code",
   "execution_count": 7,
   "metadata": {},
   "outputs": [],
   "source": [
    "f = open('data_classification.csv', 'r')"
   ]
  },
  {
   "cell_type": "code",
   "execution_count": 12,
   "metadata": {},
   "outputs": [
    {
     "output_type": "execute_result",
     "data": {
      "text/plain": [
       "4104"
      ]
     },
     "metadata": {},
     "execution_count": 12
    }
   ],
   "source": [
    "f.seek(0,os.SEEK_END)\n",
    "fsize = f.tell()\n",
    "fsize"
   ]
  },
  {
   "cell_type": "code",
   "execution_count": 13,
   "metadata": {},
   "outputs": [
    {
     "output_type": "execute_result",
     "data": {
      "text/plain": [
       "'4K'"
      ]
     },
     "metadata": {},
     "execution_count": 13
    }
   ],
   "source": [
    "from hurry.filesize import size\n",
    "size(fsize)"
   ]
  },
  {
   "cell_type": "code",
   "execution_count": 49,
   "metadata": {},
   "outputs": [
    {
     "output_type": "execute_result",
     "data": {
      "text/plain": [
       "b'{\"filename\":\"data_classification.csv\",\"content_type\":\"\"}'"
      ]
     },
     "metadata": {},
     "execution_count": 49
    }
   ],
   "source": [
    "files = {'file': ('data_classification.csv', open('data_classification.csv', 'rb'))}\n",
    "r = rq.post(\"http://127.0.0.1:8000/api/dataset\", files=files)\n",
    "r.content"
   ]
  },
  {
   "source": [
    "## Get insights into the datasets"
   ],
   "cell_type": "markdown",
   "metadata": {}
  },
  {
   "cell_type": "code",
   "execution_count": 40,
   "metadata": {},
   "outputs": [
    {
     "output_type": "execute_result",
     "data": {
      "text/plain": [
       "{'mpg': 18.0,\n",
       " 'cylinders': 8,\n",
       " 'cubicinches': 307,\n",
       " 'horsepower': 130,\n",
       " 'weightlbs': 3504,\n",
       " 'time': 12,\n",
       " 'year': 1971,\n",
       " 'brand': 'chevrolet',\n",
       " 'origin': 'US'}"
      ]
     },
     "metadata": {},
     "execution_count": 40
    }
   ],
   "source": [
    "import json\n",
    "dataset = \"cars.csv\"\n",
    "r = rq.get(\"http://127.0.0.1:8000/api/dataset/\"+dataset)\n",
    "cars = json.loads(r.json())\n",
    "cars[0]"
   ]
  }
 ],
 "metadata": {
  "language_info": {
   "codemirror_mode": {
    "name": "ipython",
    "version": 3
   },
   "file_extension": ".py",
   "mimetype": "text/x-python",
   "name": "python",
   "nbconvert_exporter": "python",
   "pygments_lexer": "ipython3",
   "version": "3.7.6-final"
  },
  "orig_nbformat": 2,
  "kernelspec": {
   "name": "python3",
   "display_name": "Python 3",
   "language": "python"
  }
 },
 "nbformat": 4,
 "nbformat_minor": 2
}