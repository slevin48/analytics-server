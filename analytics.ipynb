{
 "cells": [
  {
   "cell_type": "markdown",
   "metadata": {},
   "source": [
    "# Analytics server"
   ]
  },
  {
   "cell_type": "code",
   "execution_count": 1,
   "metadata": {},
   "outputs": [
    {
     "output_type": "execute_result",
     "data": {
      "text/plain": "['cars.csv', 'united_nations.csv']"
     },
     "metadata": {},
     "execution_count": 1
    }
   ],
   "source": [
    "from os import listdir\n",
    "# Data to serve with our API\n",
    "datasets = listdir(\"data\")\n",
    "datasets"
   ]
  },
  {
   "cell_type": "code",
   "execution_count": 2,
   "metadata": {},
   "outputs": [
    {
     "output_type": "execute_result",
     "data": {
      "text/plain": "'[\"cars.csv\", \"united_nations.csv\"]'"
     },
     "metadata": {},
     "execution_count": 2
    }
   ],
   "source": [
    "import json\n",
    "json.dumps(datasets)"
   ]
  },
  {
   "cell_type": "markdown",
   "metadata": {},
   "source": [
    "## Working With Files in Python\n",
    "https://realpython.com/working-with-files-in-python/"
   ]
  },
  {
   "cell_type": "code",
   "execution_count": 9,
   "metadata": {},
   "outputs": [
    {
     "output_type": "stream",
     "name": "stdout",
     "text": "cars.csv\ndata.csv\n"
    }
   ],
   "source": [
    "entries = os.listdir('data/')\n",
    "for entry in entries:\n",
    "    print(entry)"
   ]
  },
  {
   "cell_type": "code",
   "execution_count": 11,
   "metadata": {},
   "outputs": [
    {
     "output_type": "stream",
     "name": "stdout",
     "text": "cars.csv\ndata.csv\n"
    }
   ],
   "source": [
    "import os\n",
    "\n",
    "with os.scandir('data/') as entries:\n",
    "    for entry in entries:\n",
    "        print(entry.name)"
   ]
  },
  {
   "cell_type": "code",
   "execution_count": 61,
   "metadata": {},
   "outputs": [
    {
     "output_type": "stream",
     "name": "stdout",
     "text": "os.stat_result(st_mode=33206, st_ino=0, st_dev=0, st_nlink=0, st_uid=0, st_gid=0, st_size=14937, st_atime=1590573945, st_mtime=1530305963, st_ctime=1590573945)\nos.stat_result(st_mode=33206, st_ino=0, st_dev=0, st_nlink=0, st_uid=0, st_gid=0, st_size=25830, st_atime=1590573945, st_mtime=1408008491, st_ctime=1590573945)\n"
    }
   ],
   "source": [
    "import os\n",
    "\n",
    "with os.scandir(\"data\") as dir_entries:\n",
    "    for entry in dir_entries:\n",
    "        info = entry.stat()\n",
    "        print(info)"
   ]
  },
  {
   "cell_type": "markdown",
   "metadata": {},
   "source": [
    "Same results with *pathlib*"
   ]
  },
  {
   "cell_type": "code",
   "execution_count": 13,
   "metadata": {},
   "outputs": [
    {
     "output_type": "stream",
     "name": "stdout",
     "text": "1530305963.4392028\n1408008491.0\n"
    }
   ],
   "source": [
    "from pathlib import Path\n",
    "current_dir = Path('data')\n",
    "for path in current_dir.iterdir():\n",
    "    info = path.stat()\n",
    "    print(info.st_mtime)"
   ]
  },
  {
   "cell_type": "code",
   "execution_count": 16,
   "metadata": {},
   "outputs": [],
   "source": [
    "from datetime import datetime\n",
    "from os import scandir\n",
    "\n",
    "def convert_date(timestamp):\n",
    "    d = datetime.utcfromtimestamp(timestamp)\n",
    "    formated_date = d.strftime('%d %b %Y')\n",
    "    return formated_date\n",
    "\n",
    "def get_files():\n",
    "    dir_entries = scandir('data/')\n",
    "    for entry in dir_entries:\n",
    "        if entry.is_file():\n",
    "            info = entry.stat()\n",
    "            print(f'{entry.name}\\t Last Modified: {convert_date(info.st_mtime)}')"
   ]
  },
  {
   "cell_type": "code",
   "execution_count": 17,
   "metadata": {},
   "outputs": [
    {
     "output_type": "stream",
     "name": "stdout",
     "text": "cars.csv\t Last Modified: 29 Jun 2018\ndata.csv\t Last Modified: 14 Aug 2014\n"
    }
   ],
   "source": [
    " get_files()"
   ]
  },
  {
   "cell_type": "markdown",
   "metadata": {},
   "source": [
    "## Retrieve file properties\n",
    "https://www.w3resource.com/python-exercises/python-basic-exercise-107.php"
   ]
  },
  {
   "cell_type": "code",
   "execution_count": 19,
   "metadata": {},
   "outputs": [
    {
     "output_type": "stream",
     "name": "stdout",
     "text": "File         : data/cars.csv\nAccess time  : Wed May 27 12:05:45 2020\nModified time: Fri Jun 29 22:59:23 2018\nChange time  : Wed May 27 12:05:45 2020\nSize         : 14937\n"
    }
   ],
   "source": [
    "import os.path\n",
    "import time\n",
    "\n",
    "print('File         :', \"data/cars.csv\")\n",
    "print('Access time  :', time.ctime(os.path.getatime(\"data/cars.csv\")))\n",
    "print('Modified time:', time.ctime(os.path.getmtime(\"data/cars.csv\")))\n",
    "print('Change time  :', time.ctime(os.path.getctime(\"data/cars.csv\")))\n",
    "print('Size         :', os.path.getsize(\"data/cars.csv\"))"
   ]
  },
  {
   "cell_type": "code",
   "execution_count": 75,
   "metadata": {},
   "outputs": [],
   "source": [
    "from hurry.filesize import size\n",
    "\n",
    "def file_info():\n",
    "    dir_entries = scandir('data/')\n",
    "    for entry in dir_entries:\n",
    "        name = entry.name\n",
    "        lastModified = entry.stat().st_mtime\n",
    "        filesize = size(entry.stat().st_size)\n",
    "        print(name)\n",
    "        print(lastModified)\n",
    "        print(filesize)"
   ]
  },
  {
   "cell_type": "code",
   "execution_count": 76,
   "metadata": {},
   "outputs": [
    {
     "output_type": "stream",
     "name": "stdout",
     "text": "cars.csv\n1530305963.4392028\n14K\ndata.csv\n1408008491.0\n25K\n"
    }
   ],
   "source": [
    "file_info()"
   ]
  },
  {
   "cell_type": "code",
   "execution_count": 63,
   "metadata": {},
   "outputs": [
    {
     "output_type": "stream",
     "name": "stdout",
     "text": "os.stat_result(st_mode=33206, st_ino=0, st_dev=0, st_nlink=0, st_uid=0, st_gid=0, st_size=14937, st_atime=1590573945, st_mtime=1530305963, st_ctime=1590573945)\nos.stat_result(st_mode=33206, st_ino=0, st_dev=0, st_nlink=0, st_uid=0, st_gid=0, st_size=25830, st_atime=1590573945, st_mtime=1408008491, st_ctime=1590573945)\n"
    }
   ],
   "source": [
    "dir_entries = scandir('data/')\n",
    "for entry in dir_entries:\n",
    "    if entry.is_file():\n",
    "        info = entry.stat()\n",
    "        print(info)"
   ]
  },
  {
   "cell_type": "code",
   "execution_count": 97,
   "metadata": {},
   "outputs": [
    {
     "output_type": "execute_result",
     "data": {
      "text/plain": "Empty DataFrame\nColumns: [name, lastModified, filesize]\nIndex: []",
      "text/html": "<div>\n<style scoped>\n    .dataframe tbody tr th:only-of-type {\n        vertical-align: middle;\n    }\n\n    .dataframe tbody tr th {\n        vertical-align: top;\n    }\n\n    .dataframe thead th {\n        text-align: right;\n    }\n</style>\n<table border=\"1\" class=\"dataframe\">\n  <thead>\n    <tr style=\"text-align: right;\">\n      <th></th>\n      <th>name</th>\n      <th>lastModified</th>\n      <th>filesize</th>\n    </tr>\n  </thead>\n  <tbody>\n  </tbody>\n</table>\n</div>"
     },
     "metadata": {},
     "execution_count": 97
    }
   ],
   "source": [
    " import pandas as pd\n",
    "\n",
    " df = pd.DataFrame(columns= ['name','lastModified','filesize'])\n",
    "\n",
    " df"
   ]
  },
  {
   "cell_type": "code",
   "execution_count": 106,
   "metadata": {},
   "outputs": [
    {
     "output_type": "execute_result",
     "data": {
      "text/plain": "'[{\"name\":\"cars.csv\",\"lastModified\":1530305963.4392027855,\"filesize\":\"14K\"},{\"name\":\"united_nations.csv\",\"lastModified\":1408008491.0,\"filesize\":\"25K\"},{\"name\":\"cars.csv\",\"lastModified\":1530305963.4392027855,\"filesize\":\"14K\"},{\"name\":\"united_nations.csv\",\"lastModified\":1408008491.0,\"filesize\":\"25K\"}]'"
     },
     "metadata": {},
     "execution_count": 106
    }
   ],
   "source": [
    "dir_entries = scandir('data/')\n",
    "for entry in dir_entries:\n",
    "     df = df.append({'name' : entry.name, 'lastModified' : entry.stat().st_mtime, 'filesize' : size(entry.stat().st_size)}, ignore_index=True)    \n",
    "\n",
    "# df.to_json(\"dataset.json\",orient='records')\n",
    "df.to_json(orient='records')"
   ]
  },
  {
   "cell_type": "code",
   "execution_count": 99,
   "metadata": {},
   "outputs": [
    {
     "output_type": "execute_result",
     "data": {
      "text/plain": "                 name  lastModified filesize\n0            cars.csv  1.530306e+09      14K\n1  united_nations.csv  1.408008e+09      25K",
      "text/html": "<div>\n<style scoped>\n    .dataframe tbody tr th:only-of-type {\n        vertical-align: middle;\n    }\n\n    .dataframe tbody tr th {\n        vertical-align: top;\n    }\n\n    .dataframe thead th {\n        text-align: right;\n    }\n</style>\n<table border=\"1\" class=\"dataframe\">\n  <thead>\n    <tr style=\"text-align: right;\">\n      <th></th>\n      <th>name</th>\n      <th>lastModified</th>\n      <th>filesize</th>\n    </tr>\n  </thead>\n  <tbody>\n    <tr>\n      <th>0</th>\n      <td>cars.csv</td>\n      <td>1.530306e+09</td>\n      <td>14K</td>\n    </tr>\n    <tr>\n      <th>1</th>\n      <td>united_nations.csv</td>\n      <td>1.408008e+09</td>\n      <td>25K</td>\n    </tr>\n  </tbody>\n</table>\n</div>"
     },
     "metadata": {},
     "execution_count": 99
    }
   ],
   "source": [
    "df"
   ]
  },
  {
   "cell_type": "code",
   "execution_count": 78,
   "metadata": {},
   "outputs": [
    {
     "output_type": "execute_result",
     "data": {
      "text/plain": "   A\n0  0\n1  1\n2  2\n3  3\n4  4",
      "text/html": "<div>\n<style scoped>\n    .dataframe tbody tr th:only-of-type {\n        vertical-align: middle;\n    }\n\n    .dataframe tbody tr th {\n        vertical-align: top;\n    }\n\n    .dataframe thead th {\n        text-align: right;\n    }\n</style>\n<table border=\"1\" class=\"dataframe\">\n  <thead>\n    <tr style=\"text-align: right;\">\n      <th></th>\n      <th>A</th>\n    </tr>\n  </thead>\n  <tbody>\n    <tr>\n      <th>0</th>\n      <td>0</td>\n    </tr>\n    <tr>\n      <th>1</th>\n      <td>1</td>\n    </tr>\n    <tr>\n      <th>2</th>\n      <td>2</td>\n    </tr>\n    <tr>\n      <th>3</th>\n      <td>3</td>\n    </tr>\n    <tr>\n      <th>4</th>\n      <td>4</td>\n    </tr>\n  </tbody>\n</table>\n</div>"
     },
     "metadata": {},
     "execution_count": 78
    }
   ],
   "source": [
    "df = pd.DataFrame(columns=['A'])\n",
    "for i in range(5):\n",
    "    df = df.append({'A': i}, ignore_index=True)\n",
    "\n",
    "df"
   ]
  },
  {
   "cell_type": "markdown",
   "metadata": {},
   "source": [
    "Append DataFrame\n",
    "https://pandas.pydata.org/pandas-docs/stable/reference/api/pandas.DataFrame.append.html"
   ]
  },
  {
   "cell_type": "markdown",
   "metadata": {},
   "source": [
    "## Better way to create json file from multiple lists?\n",
    "https://stackoverflow.com/questions/50519818/better-way-to-create-json-file-from-multiple-lists/50520116"
   ]
  },
  {
   "cell_type": "code",
   "execution_count": 33,
   "metadata": {},
   "outputs": [],
   "source": [
    "import json\n",
    "\n",
    "devices = ['iphone', 'ipad', 'ipod', 'watch']\n",
    "cities = ['NY', 'SFO', 'LA', 'NJ']\n",
    "companies = ['Apple', 'Samsung', 'Walmart']\n",
    "\n",
    "lists = ['devices', 'cities', 'companies']\n",
    "\n",
    "data = {listname: globals()[listname] for listname in lists}\n",
    "with open('abc.json', 'w') as outfile:\n",
    "    json.dump(data, outfile, indent=4)\n"
   ]
  },
  {
   "cell_type": "code",
   "execution_count": 38,
   "metadata": {},
   "outputs": [
    {
     "output_type": "execute_result",
     "data": {
      "text/plain": "  devices cities companies\n0  iphone     NY     Apple\n1    ipad    SFO   Samsung\n2    ipod     LA   Walmart",
      "text/html": "<div>\n<style scoped>\n    .dataframe tbody tr th:only-of-type {\n        vertical-align: middle;\n    }\n\n    .dataframe tbody tr th {\n        vertical-align: top;\n    }\n\n    .dataframe thead th {\n        text-align: right;\n    }\n</style>\n<table border=\"1\" class=\"dataframe\">\n  <thead>\n    <tr style=\"text-align: right;\">\n      <th></th>\n      <th>devices</th>\n      <th>cities</th>\n      <th>companies</th>\n    </tr>\n  </thead>\n  <tbody>\n    <tr>\n      <th>0</th>\n      <td>iphone</td>\n      <td>NY</td>\n      <td>Apple</td>\n    </tr>\n    <tr>\n      <th>1</th>\n      <td>ipad</td>\n      <td>SFO</td>\n      <td>Samsung</td>\n    </tr>\n    <tr>\n      <th>2</th>\n      <td>ipod</td>\n      <td>LA</td>\n      <td>Walmart</td>\n    </tr>\n  </tbody>\n</table>\n</div>"
     },
     "metadata": {},
     "execution_count": 38
    }
   ],
   "source": [
    "import pandas as pd\n",
    "\n",
    "devices = ['iphone', 'ipad', 'ipod', 'watch']\n",
    "cities = ['NY', 'SFO', 'LA', 'NJ']\n",
    "companies = ['Apple', 'Samsung', 'Walmart']\n",
    "\n",
    "df = pd.DataFrame(list(zip(devices,cities,companies)),columns =['devices', 'cities','companies'])\n",
    "df"
   ]
  },
  {
   "cell_type": "code",
   "execution_count": 40,
   "metadata": {},
   "outputs": [],
   "source": [
    "df.to_json(\"df.json\",orient='records')"
   ]
  },
  {
   "cell_type": "markdown",
   "metadata": {},
   "source": [
    "## Reading JSON from a File\n",
    "https://stackabuse.com/reading-and-writing-json-to-a-file-in-python/"
   ]
  },
  {
   "cell_type": "code",
   "execution_count": 104,
   "metadata": {},
   "outputs": [],
   "source": [
    "import json\n",
    "from datetime import datetime\n",
    "\n",
    "def get_timestamp():\n",
    "    return datetime.now().strftime((\"%Y-%m-%d %H:%M:%S\"))\n",
    "\n",
    "\n",
    "data = {}\n",
    "data['people'] = []\n",
    "data['people'].append({\n",
    "    \"fname\": \"Doug\",\n",
    "    \"lname\": \"Farrell\",\n",
    "    \"timestamp\": get_timestamp()\n",
    "})\n",
    "data['people'].append({\n",
    "    \"fname\": \"Kent\",\n",
    "    \"lname\": \"Brockman\",\n",
    "    \"timestamp\": get_timestamp()\n",
    "})\n",
    "data['people'].append({\n",
    "    \"fname\": \"Bunny\",\n",
    "    \"lname\": \"Easter\",\n",
    "    \"timestamp\": get_timestamp()\n",
    "})\n",
    "\n",
    "with open('people.txt', 'w') as outfile:\n",
    "    json.dump(data, outfile)"
   ]
  },
  {
   "cell_type": "code",
   "execution_count": 105,
   "metadata": {},
   "outputs": [
    {
     "output_type": "stream",
     "name": "stdout",
     "text": "Name: Doug\nWebsite: Farrell\nFrom: 2020-05-27 15:31:12\n\nName: Kent\nWebsite: Brockman\nFrom: 2020-05-27 15:31:12\n\nName: Bunny\nWebsite: Easter\nFrom: 2020-05-27 15:31:12\n\n"
    }
   ],
   "source": [
    "\n",
    "with open('people.txt') as json_file:\n",
    "    data = json.load(json_file)\n",
    "    for p in data['people']:\n",
    "        print('Name: ' + p['fname'])\n",
    "        print('Website: ' + p['lname'])\n",
    "        print('From: ' + p['timestamp'])\n",
    "        print('')"
   ]
  },
  {
   "cell_type": "code",
   "execution_count": 108,
   "metadata": {},
   "outputs": [],
   "source": [
    "import dataset\n",
    "\n",
    "data = dataset.read()"
   ]
  },
  {
   "cell_type": "code",
   "execution_count": 110,
   "metadata": {},
   "outputs": [
    {
     "output_type": "execute_result",
     "data": {
      "text/plain": "'[{\"name\":\"cars.csv\",\"lastModified\":1530305963.4392027855,\"filesize\":\"14K\"},{\"name\":\"united_nations.csv\",\"lastModified\":1408008491.0,\"filesize\":\"25K\"}]'"
     },
     "metadata": {},
     "execution_count": 110
    }
   ],
   "source": [
    "data"
   ]
  },
  {
   "cell_type": "code",
   "execution_count": 116,
   "metadata": {},
   "outputs": [
    {
     "output_type": "execute_result",
     "data": {
      "text/plain": "[{'name': 'cars.csv', 'lastModified': 1530305963.4392028, 'filesize': '14K'},\n {'name': 'united_nations.csv',\n  'lastModified': 1408008491.0,\n  'filesize': '25K'}]"
     },
     "metadata": {},
     "execution_count": 116
    }
   ],
   "source": [
    "json.loads(data)"
   ]
  }
 ],
 "metadata": {
  "language_info": {
   "codemirror_mode": {
    "name": "ipython",
    "version": 3
   },
   "file_extension": ".py",
   "mimetype": "text/x-python",
   "name": "python",
   "nbconvert_exporter": "python",
   "pygments_lexer": "ipython3",
   "version": "3.7.6-final"
  },
  "orig_nbformat": 2,
  "kernelspec": {
   "name": "python3",
   "display_name": "Python 3"
  }
 },
 "nbformat": 4,
 "nbformat_minor": 2
}